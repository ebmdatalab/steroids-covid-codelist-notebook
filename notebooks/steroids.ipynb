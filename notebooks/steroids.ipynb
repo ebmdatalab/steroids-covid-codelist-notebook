{
 "cells": [
  {
   "cell_type": "markdown",
   "metadata": {},
   "source": [
    "WIP \n",
    "\n",
    "[PHE criteria for shielded patients](https://www.gov.uk/government/publications/covid-19-guidance-on-social-distancing-and-for-vulnerable-people/guidance-on-social-distancing-for-everyone-in-the-uk-and-protecting-older-people-and-vulnerable-adults) specifies people with weakened immune systems and goes on to give an example of \"_steroid tablets_\". This is very unspecific as you can have injections, enemeas, inhaled which can all act on the imune system. The [BNF hsa a useful summary](https://bnf.nice.org.uk/treatment-summary/corticosteroids-general-use.html) of steroids including area of action, differnt types, uses and side-effects. In this list we will include\n",
    "\n",
    "-\n",
    "-\n",
    "-\n",
    "-"
   ]
  },
  {
   "cell_type": "code",
   "execution_count": null,
   "metadata": {},
   "outputs": [],
   "source": []
  },
  {
   "cell_type": "code",
   "execution_count": null,
   "metadata": {},
   "outputs": [],
   "source": [
    "from ebmdatalab import bq\n",
    "import os"
   ]
  },
  {
   "cell_type": "code",
   "execution_count": null,
   "metadata": {},
   "outputs": [],
   "source": [
    "sql = '''WITH bnf_codes AS (\n",
    "  SELECT bnf_code FROM hscic.presentation WHERE \n",
    "    bnf_code LIKE '1001030C0%' OR ##hydroxychloroquine sulfate - BNF sect drugs used in rheumatic disease\n",
    "    bnf_code LIKE '0504010F0%' OR ## chloroquine phosphate - BNF sect antiprotozoal drugs\n",
    "    bnf_code LIKE '0504010Z0%'  OR ## chloroquine phosphate with proguanil - BNF sect antiprotozoal drugs\n",
    "    bnf_code LIKE '0504010G0%' ## chloroquine sulfate - BNF sect antiprotozoal drugs \n",
    "  )\n",
    "\n",
    "SELECT \"vmp\" AS type, id, bnf_code, nm\n",
    "FROM dmd.vmp\n",
    "WHERE bnf_code IN (SELECT * FROM bnf_codes)\n",
    "\n",
    "UNION ALL\n",
    "\n",
    "SELECT \"amp\" AS type, id, bnf_code, descr\n",
    "FROM dmd.amp\n",
    "WHERE bnf_code IN (SELECT * FROM bnf_codes)\n",
    "\n",
    "ORDER BY type, bnf_code, id'''\n",
    "\n",
    "steroids_codelist = bq.cached_read(sql, csv_path=os.path.join('..','data','steroids_codelist.csv'))\n",
    "steroids_codelist.head(10)"
   ]
  }
 ],
 "metadata": {
  "jupytext": {
   "cell_metadata_filter": "all",
   "notebook_metadata_filter": "all,-language_info",
   "text_representation": {
    "extension": ".py",
    "format_name": "light",
    "format_version": "1.5",
    "jupytext_version": "1.3.3"
   }
  },
  "kernelspec": {
   "display_name": "Python 3",
   "language": "python",
   "name": "python3"
  },
  "language_info": {
   "codemirror_mode": {
    "name": "ipython",
    "version": 3
   },
   "file_extension": ".py",
   "mimetype": "text/x-python",
   "name": "python",
   "nbconvert_exporter": "python",
   "pygments_lexer": "ipython3",
   "version": "3.8.1"
  }
 },
 "nbformat": 4,
 "nbformat_minor": 4
}
