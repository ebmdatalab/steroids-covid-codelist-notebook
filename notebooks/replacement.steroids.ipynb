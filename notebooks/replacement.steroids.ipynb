{
 "cells": [
  {
   "cell_type": "markdown",
   "metadata": {},
   "source": [
    "[PHE criteria for shielded patients](https://www.gov.uk/government/publications/covid-19-guidance-on-social-distancing-and-for-vulnerable-people/guidance-on-social-distancing-for-everyone-in-the-uk-and-protecting-older-people-and-vulnerable-adults) specifies people with weakened immune systems and goes on to give an example of \"_steroid tablets_\". This is very unspecific as you can have injections, enemeas, inhaled which can all act on the imune system. The [BNF has a useful summary](https://bnf.nice.org.uk/treatment-summary/corticosteroids-general-use.html) of steroids including area of action, differnt types, uses and side-effects. In this list we will include \"replacement like\" steroids. \n"
   ]
  },
  {
   "cell_type": "code",
   "execution_count": 1,
   "metadata": {},
   "outputs": [],
   "source": [
    "from ebmdatalab import bq\n",
    "import os\n",
    "import pandas as pd"
   ]
  },
  {
   "cell_type": "code",
   "execution_count": 2,
   "metadata": {
    "lines_to_next_cell": 0
   },
   "outputs": [
    {
     "data": {
      "text/plain": [
       "type        524\n",
       "id          524\n",
       "bnf_code    524\n",
       "nm          524\n",
       "dtype: int64"
      ]
     },
     "execution_count": 2,
     "metadata": {},
     "output_type": "execute_result"
    }
   ],
   "source": [
    "sql = '''WITH bnf_codes AS (\n",
    "  SELECT bnf_code FROM hscic.presentation WHERE \n",
    "    bnf_code LIKE '060302%'       OR    #BNF  glucocorticoid\n",
    "    bnf_code LIKE '060301%'       OR    #BNF replacement therapy - fludrocortisone\n",
    "    bnf_code LIKE '100102%'       OR      #BNF paragraph on corticosteroinds in rheumatic disease\n",
    "    bnf_code LIKE '010502%'             #BNF paragraph on corticosteroinds in bowel disorders\n",
    "  )\n",
    "\n",
    "SELECT \"vmp\" AS type, id, bnf_code, nm\n",
    "FROM dmd.vmp_full\n",
    "WHERE bnf_code IN (SELECT * FROM bnf_codes)\n",
    "\n",
    "UNION ALL\n",
    "\n",
    "SELECT \"amp\" AS type, id, bnf_code, descr\n",
    "FROM dmd.amp\n",
    "WHERE bnf_code IN (SELECT * FROM bnf_codes)\n",
    "\n",
    "ORDER BY type, bnf_code, id'''\n",
    "\n",
    "replacement_steroids_codelist = bq.cached_read(sql, csv_path=os.path.join('..','data','replacement_steroids_codelist.csv'))\n",
    "pd.set_option('display.max_rows', None)\n",
    "pd.set_option('display.max_colwidth', None)\n",
    "replacement_steroids_codelist.count()"
   ]
  },
  {
   "cell_type": "code",
   "execution_count": 3,
   "metadata": {},
   "outputs": [
    {
     "data": {
      "text/plain": [
       "obj_type      804\n",
       "snomed_id     804\n",
       "bnf_code      804\n",
       "dmd_name      804\n",
       "form_route    804\n",
       "dtype: int64"
      ]
     },
     "execution_count": 3,
     "metadata": {},
     "output_type": "execute_result"
    }
   ],
   "source": [
    "sql = '''\n",
    "SELECT obj_type, snomed_id, bnf_code, dmd_name, form_route\n",
    "FROM ebmdatalab.measures_v2.dmd_objs_with_form_route\n",
    "WHERE \n",
    "    (bnf_code LIKE '060302%'       OR    #BNF  glucocorticoid\n",
    "    bnf_code LIKE '060301%'       OR    #BNF replacement therapy - fludrocortisone\n",
    "    bnf_code LIKE '100102%'       OR      #BNF paragraph on corticosteroinds in rheumatic disease\n",
    "    bnf_code LIKE '010502%' )            #BNF paragraph on corticosteroinds in bowel disorders\n",
    "AND\n",
    "(obj_type = \"vmp\" OR obj_type = \"amp\")\n",
    "\n",
    "\n",
    "ORDER BY obj_type, bnf_code'''\n",
    "\n",
    "test2 = bq.cached_read(sql, csv_path=os.path.join('..','data','test2.csv'))\n",
    "pd.set_option('display.max_rows', None)\n",
    "pd.set_option('display.max_colwidth', None)\n",
    "test2.count()"
   ]
  },
  {
   "cell_type": "code",
   "execution_count": 4,
   "metadata": {},
   "outputs": [
    {
     "name": "stdout",
     "output_type": "stream",
     "text": [
      "Please visit this URL to authorize this application: https://accounts.google.com/o/oauth2/auth?response_type=code&client_id=725825577420-unm2gnkiprugilg743tkbig250f4sfsj.apps.googleusercontent.com&redirect_uri=urn%3Aietf%3Awg%3Aoauth%3A2.0%3Aoob&scope=https%3A%2F%2Fwww.googleapis.com%2Fauth%2Fbigquery&state=7JlaG4J9PsHHllytWtZg1whrBsmFfh&prompt=consent&access_type=offline\n"
     ]
    },
    {
     "name": "stdin",
     "output_type": "stream",
     "text": [
      "Enter the authorization code:  4/ygG6uehdCYqrFNd7UnqMZb31TF7u0kQxLp8NUne6aIDIX6RcKl_rosY\n"
     ]
    },
    {
     "name": "stderr",
     "output_type": "stream",
     "text": [
      "Downloading: 100%|██████████| 374/374 [00:00<00:00, 1849.09rows/s]\n"
     ]
    },
    {
     "data": {
      "text/plain": [
       "obj_type      374\n",
       "snomed_id     374\n",
       "bnf_code      374\n",
       "dmd_name      374\n",
       "form_route    374\n",
       "dtype: int64"
      ]
     },
     "execution_count": 4,
     "metadata": {},
     "output_type": "execute_result"
    }
   ],
   "source": [
    "sql = '''WITH subquery AS (\n",
    "  SELECT\n",
    "    obj_type,\n",
    "    snomed_id,\n",
    "    bnf_code,\n",
    "    dmd_name,\n",
    "    form_route\n",
    "  FROM measures.dmd_objs_with_form_route\n",
    "  WHERE (\n",
    "      bnf_code LIKE '060302%' OR # BNF glucocorticoid\n",
    "      bnf_code LIKE '060301%' OR # BNF replacement therapy - fludrocortisone\n",
    "      bnf_code LIKE '100102%' OR # BNF paragraph on corticosteroinds in rheumatic disease\n",
    "      bnf_code LIKE '010502%'    # BNF paragraph on corticosteroinds in bowel disorders\n",
    "    ) AND (\n",
    "      obj_type = \"vmp\" OR\n",
    "      obj_type = \"amp\"\n",
    "    )\n",
    ")\n",
    "\n",
    "SELECT *\n",
    "FROM subquery\n",
    "WHERE snomed_id IN (\n",
    "  SELECT snomed_id\n",
    "  FROM subquery\n",
    "  GROUP BY snomed_id\n",
    "  HAVING COUNT(snomed_id) > 1\n",
    ")\n",
    "\n",
    "ORDER BY obj_type, dmd_name, form_route'''\n",
    "\n",
    "all_steroids = bq.cached_read(sql, csv_path=os.path.join('..','data','all_steroids.csv'))\n",
    "pd.set_option('display.max_rows', None)\n",
    "pd.set_option('display.max_colwidth', None)\n",
    "all_steroids.count()"
   ]
  }
 ],
 "metadata": {
  "jupytext": {
   "cell_metadata_filter": "all",
   "notebook_metadata_filter": "all,-language_info",
   "text_representation": {
    "extension": ".py",
    "format_name": "light",
    "format_version": "1.5",
    "jupytext_version": "1.3.3"
   }
  },
  "kernelspec": {
   "display_name": "Python 3",
   "language": "python",
   "name": "python3"
  },
  "language_info": {
   "codemirror_mode": {
    "name": "ipython",
    "version": 3
   },
   "file_extension": ".py",
   "mimetype": "text/x-python",
   "name": "python",
   "nbconvert_exporter": "python",
   "pygments_lexer": "ipython3",
   "version": "3.8.1"
  }
 },
 "nbformat": 4,
 "nbformat_minor": 4
}
